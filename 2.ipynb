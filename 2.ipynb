{
 "cells": [
  {
   "cell_type": "markdown",
   "metadata": {},
   "source": [
    "# ДЗ до лекції №1. Вступ до змінних та вбудованих функцій Python"
   ]
  },
  {
   "cell_type": "markdown",
   "metadata": {},
   "source": [
    "##### 1. Write a program that gets two int variables and swaps their values. Do it in 3 different ways."
   ]
  },
  {
   "cell_type": "code",
   "execution_count": 1,
   "metadata": {},
   "outputs": [
    {
     "name": "stdout",
     "output_type": "stream",
     "text": [
      "a = x\n",
      "b = y\n",
      "b > y\n",
      "a > x\n"
     ]
    }
   ],
   "source": [
    "a = input('Enter the first variable: ')\n",
    "b = input('Enter the second variable: ')\n",
    "print('a =', a)\n",
    "print('b =', b)\n",
    "\n",
    "c = a\n",
    "a = b\n",
    "b = c\n",
    "\n",
    "print('b >', a)\n",
    "print('a >', b)"
   ]
  },
  {
   "cell_type": "code",
   "execution_count": 80,
   "metadata": {},
   "outputs": [
    {
     "name": "stdout",
     "output_type": "stream",
     "text": [
      "a = x\n",
      "b = y\n",
      "b > y\n",
      "a > x\n"
     ]
    }
   ],
   "source": [
    "a = input('Enter the first variable: ')\n",
    "b = input('Enter the second variable: ')\n",
    "print('a =', a)\n",
    "print('b =', b)\n",
    "\n",
    "[a, b] = [b, a] # list\n",
    "\n",
    "print('b >', a)\n",
    "print('a >', b)"
   ]
  },
  {
   "cell_type": "code",
   "execution_count": 82,
   "metadata": {},
   "outputs": [
    {
     "name": "stdout",
     "output_type": "stream",
     "text": [
      "a = x\n",
      "b = y\n",
      "b > y\n",
      "a > x\n"
     ]
    }
   ],
   "source": [
    "a = input('Enter the first variable: ')\n",
    "b = input('Enter the second variable: ')\n",
    "print('a =', a)\n",
    "print('b =', b)\n",
    "\n",
    "(a, b) = (b, a) # tuple\n",
    "\n",
    "print('b >', a)\n",
    "print('a >', b)"
   ]
  },
  {
   "cell_type": "code",
   "execution_count": 88,
   "metadata": {},
   "outputs": [
    {
     "name": "stdout",
     "output_type": "stream",
     "text": [
      "a = 59\n",
      "b = 87\n",
      "b > 87\n",
      "a > 59\n"
     ]
    }
   ],
   "source": [
    "a = input('Enter the first integer variable: ')\n",
    "b = input('Enter the second integer variable: ')\n",
    "\n",
    "if a.isdecimal()==False or b.isdecimal()==False:\n",
    "    print('Invalid input')\n",
    "else:\n",
    "    a = int(a)\n",
    "    b = int(b)\n",
    "    print('a =', a)\n",
    "    print('b =', b)\n",
    "    \n",
    "    a = a + b   # a_new = a + b\n",
    "    b = a - b   # b_new = a_new - b = a   ->   b_new = a\n",
    "    a = a - b   # a_new_new = a_new - b_new = b\n",
    "    print('b >', a)\n",
    "    print('a >', b)"
   ]
  },
  {
   "cell_type": "markdown",
   "metadata": {},
   "source": [
    "##### 2. Write a program that gets 2 numbers from the user. Print to the console their difference. Use the built-in Input function for that."
   ]
  },
  {
   "cell_type": "code",
   "execution_count": 38,
   "metadata": {},
   "outputs": [
    {
     "name": "stdout",
     "output_type": "stream",
     "text": [
      "The difference is: 74.0\n"
     ]
    }
   ],
   "source": [
    "a = float(input('Enter the first digit: '))\n",
    "b = float(input('Enter the second digit: '))\n",
    "\n",
    "print('The difference is:', a-b)"
   ]
  },
  {
   "cell_type": "markdown",
   "metadata": {},
   "source": [
    "##### 3. Write a program that gets 2 numbers from the user. Print to the console maximum of these two variable. Use a built-in function for that."
   ]
  },
  {
   "cell_type": "code",
   "execution_count": 32,
   "metadata": {},
   "outputs": [
    {
     "name": "stdout",
     "output_type": "stream",
     "text": [
      "The maximum is: 8.9\n"
     ]
    }
   ],
   "source": [
    "a = float(input('Enter the first digit: '))\n",
    "b = float(input('Enter the second digit: '))\n",
    "\n",
    "print('The maximum is:', max(a, b))"
   ]
  },
  {
   "cell_type": "markdown",
   "metadata": {},
   "source": [
    "##### 4. Optional: Write a program that gets 3 digit number from the user and reverses it. You can use only numbers and their operators. Don`t use a string here!"
   ]
  },
  {
   "cell_type": "code",
   "execution_count": 89,
   "metadata": {},
   "outputs": [
    {
     "name": "stdout",
     "output_type": "stream",
     "text": [
      "x = 879\n",
      "x > 978\n"
     ]
    }
   ],
   "source": [
    "x = input('Enter a three-digit number: ')\n",
    "if len(x) != 3 or x.isdecimal()==False:\n",
    "    print('Invalid input')\n",
    "else:\n",
    "    x = int(x)\n",
    "    print('x =', x)\n",
    "    a = x % 10\n",
    "    b = (x % 100 - a) // 10\n",
    "    c = (x - (b + a)) // 100\n",
    "    print('x >', 100 * a + 10 * b + c)"
   ]
  }
 ],
 "metadata": {
  "kernelspec": {
   "display_name": "Python 3",
   "language": "python",
   "name": "python3"
  },
  "language_info": {
   "codemirror_mode": {
    "name": "ipython",
    "version": 3
   },
   "file_extension": ".py",
   "mimetype": "text/x-python",
   "name": "python",
   "nbconvert_exporter": "python",
   "pygments_lexer": "ipython3",
   "version": "3.10.10"
  }
 },
 "nbformat": 4,
 "nbformat_minor": 2
}
